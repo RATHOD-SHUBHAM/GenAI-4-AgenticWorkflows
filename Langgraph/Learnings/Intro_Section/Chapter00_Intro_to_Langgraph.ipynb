{
  "nbformat": 4,
  "nbformat_minor": 0,
  "metadata": {
    "colab": {
      "provenance": [],
      "gpuType": "T4"
    },
    "kernelspec": {
      "name": "python3",
      "display_name": "Python 3"
    },
    "language_info": {
      "name": "python"
    },
    "accelerator": "GPU"
  },
  "cells": [
    {
      "cell_type": "code",
      "execution_count": 1,
      "metadata": {
        "colab": {
          "base_uri": "https://localhost:8080/"
        },
        "id": "P4QYJextYsyO",
        "outputId": "7164862c-c0c4-4c77-8607-67b7cf8941a8"
      },
      "outputs": [
        {
          "output_type": "stream",
          "name": "stdout",
          "text": [
            "\u001b[2K     \u001b[90m━━━━━━━━━━━━━━━━━━━━━━━━━━━━━━━━━━━━━━━━\u001b[0m \u001b[32m50.4/50.4 kB\u001b[0m \u001b[31m4.0 MB/s\u001b[0m eta \u001b[36m0:00:00\u001b[0m\n",
            "\u001b[2K   \u001b[90m━━━━━━━━━━━━━━━━━━━━━━━━━━━━━━━━━━━━━━━━\u001b[0m \u001b[32m1.0/1.0 MB\u001b[0m \u001b[31m49.2 MB/s\u001b[0m eta \u001b[36m0:00:00\u001b[0m\n",
            "\u001b[2K   \u001b[90m━━━━━━━━━━━━━━━━━━━━━━━━━━━━━━━━━━━━━━━━\u001b[0m \u001b[32m405.1/405.1 kB\u001b[0m \u001b[31m30.8 MB/s\u001b[0m eta \u001b[36m0:00:00\u001b[0m\n",
            "\u001b[2K   \u001b[90m━━━━━━━━━━━━━━━━━━━━━━━━━━━━━━━━━━━━━━━━\u001b[0m \u001b[32m2.3/2.3 MB\u001b[0m \u001b[31m85.1 MB/s\u001b[0m eta \u001b[36m0:00:00\u001b[0m\n",
            "\u001b[2K   \u001b[90m━━━━━━━━━━━━━━━━━━━━━━━━━━━━━━━━━━━━━━━━\u001b[0m \u001b[32m206.9/206.9 kB\u001b[0m \u001b[31m16.2 MB/s\u001b[0m eta \u001b[36m0:00:00\u001b[0m\n",
            "\u001b[2K   \u001b[90m━━━━━━━━━━━━━━━━━━━━━━━━━━━━━━━━━━━━━━━━\u001b[0m \u001b[32m97.6/97.6 kB\u001b[0m \u001b[31m8.8 MB/s\u001b[0m eta \u001b[36m0:00:00\u001b[0m\n",
            "\u001b[2K   \u001b[90m━━━━━━━━━━━━━━━━━━━━━━━━━━━━━━━━━━━━━━━━\u001b[0m \u001b[32m289.8/289.8 kB\u001b[0m \u001b[31m22.2 MB/s\u001b[0m eta \u001b[36m0:00:00\u001b[0m\n",
            "\u001b[2K   \u001b[90m━━━━━━━━━━━━━━━━━━━━━━━━━━━━━━━━━━━━━━━━\u001b[0m \u001b[32m106.5/106.5 kB\u001b[0m \u001b[31m9.8 MB/s\u001b[0m eta \u001b[36m0:00:00\u001b[0m\n",
            "\u001b[2K   \u001b[90m━━━━━━━━━━━━━━━━━━━━━━━━━━━━━━━━━━━━━━━━\u001b[0m \u001b[32m76.4/76.4 kB\u001b[0m \u001b[31m6.7 MB/s\u001b[0m eta \u001b[36m0:00:00\u001b[0m\n",
            "\u001b[2K   \u001b[90m━━━━━━━━━━━━━━━━━━━━━━━━━━━━━━━━━━━━━━━━\u001b[0m \u001b[32m77.9/77.9 kB\u001b[0m \u001b[31m6.7 MB/s\u001b[0m eta \u001b[36m0:00:00\u001b[0m\n",
            "\u001b[2K   \u001b[90m━━━━━━━━━━━━━━━━━━━━━━━━━━━━━━━━━━━━━━━━\u001b[0m \u001b[32m141.9/141.9 kB\u001b[0m \u001b[31m13.1 MB/s\u001b[0m eta \u001b[36m0:00:00\u001b[0m\n",
            "\u001b[2K   \u001b[90m━━━━━━━━━━━━━━━━━━━━━━━━━━━━━━━━━━━━━━━━\u001b[0m \u001b[32m49.3/49.3 kB\u001b[0m \u001b[31m3.8 MB/s\u001b[0m eta \u001b[36m0:00:00\u001b[0m\n",
            "\u001b[2K   \u001b[90m━━━━━━━━━━━━━━━━━━━━━━━━━━━━━━━━━━━━━━━━\u001b[0m \u001b[32m58.3/58.3 kB\u001b[0m \u001b[31m4.8 MB/s\u001b[0m eta \u001b[36m0:00:00\u001b[0m\n",
            "\u001b[?25h"
          ]
        }
      ],
      "source": [
        "!pip install -qU langchain langchain-core langchain-community langchain-experimental langchain-groq langgraph langsmith"
      ]
    },
    {
      "cell_type": "code",
      "source": [],
      "metadata": {
        "id": "8LwMvGWjZt3P"
      },
      "execution_count": null,
      "outputs": []
    },
    {
      "cell_type": "markdown",
      "source": [
        "# Set up environ"
      ],
      "metadata": {
        "id": "sXJnsc60b8VE"
      }
    },
    {
      "cell_type": "code",
      "source": [
        "import os\n",
        "from google.colab import userdata\n",
        "\n",
        "os.environ['GROQ_API_KEY'] = userdata.get('GROQ_API_KEY')\n",
        "os.environ['LANGSMITH_API_KEY'] = userdata.get('LANGSMITH_API_KEY')"
      ],
      "metadata": {
        "id": "3jD2gxTtaFSf"
      },
      "execution_count": 2,
      "outputs": []
    },
    {
      "cell_type": "code",
      "source": [],
      "metadata": {
        "id": "lC16NgHOaR77"
      },
      "execution_count": null,
      "outputs": []
    },
    {
      "cell_type": "markdown",
      "source": [
        "# Setup Langsmith"
      ],
      "metadata": {
        "id": "PQqC9iojbUqx"
      }
    },
    {
      "cell_type": "code",
      "source": [
        "os.environ['LANGCHAIN_API_KEY'] = userdata.get('LANGSMITH_API_KEY')\n",
        "os.environ['LANGSMITH_TRACING'] = \"true\"\n",
        "os.environ[\"LANGCHAIN_PROJECT\"] = \"CourseLanggraph\""
      ],
      "metadata": {
        "id": "_oj1mUPFbAyq"
      },
      "execution_count": 5,
      "outputs": []
    },
    {
      "cell_type": "code",
      "source": [],
      "metadata": {
        "id": "-NKGNLt7bt_W"
      },
      "execution_count": null,
      "outputs": []
    },
    {
      "cell_type": "markdown",
      "source": [
        "# Set up LLM model"
      ],
      "metadata": {
        "id": "8m88d3dzb6vi"
      }
    },
    {
      "cell_type": "code",
      "source": [
        "from langchain_groq import ChatGroq\n",
        "\n",
        "llm = ChatGroq(\n",
        "    model = 'gemma-7b-it',\n",
        "    temperature=0.0\n",
        ")"
      ],
      "metadata": {
        "id": "EMACOY6qb7a2"
      },
      "execution_count": 6,
      "outputs": []
    },
    {
      "cell_type": "code",
      "source": [],
      "metadata": {
        "id": "HvoOa7gWciVl"
      },
      "execution_count": null,
      "outputs": []
    },
    {
      "cell_type": "markdown",
      "source": [
        "# Langgraph"
      ],
      "metadata": {
        "id": "GfNuw7zNdSLT"
      }
    },
    {
      "cell_type": "markdown",
      "source": [
        "### Import Libraries."
      ],
      "metadata": {
        "id": "ZDinUU7xdxPY"
      }
    },
    {
      "cell_type": "code",
      "source": [
        "from typing import Annotated, Literal, TypedDict\n",
        "\n",
        "from langgraph.graph import END, START, StateGraph, MessagesState\n",
        "from langgraph.graph.message import add_messages"
      ],
      "metadata": {
        "id": "cfCV9t6idTep"
      },
      "execution_count": 7,
      "outputs": []
    },
    {
      "cell_type": "code",
      "source": [
        "class State(TypedDict):\n",
        "  '''\n",
        "    Messages have the type \"list\". The `add_messages` function\n",
        "    in the annotation defines how this state key should be updated\n",
        "    (in this case, it appends messages to the list, rather than overwriting them)\n",
        "  '''\n",
        "  messages:Annotated[list, add_messages]\n"
      ],
      "metadata": {
        "id": "NdPl_paSeDiN"
      },
      "execution_count": 10,
      "outputs": []
    },
    {
      "cell_type": "code",
      "source": [
        "# Start the process of building the graph\n",
        "graph_builder = StateGraph(State)"
      ],
      "metadata": {
        "id": "Igl_5Bn0etcq"
      },
      "execution_count": 12,
      "outputs": []
    },
    {
      "cell_type": "code",
      "source": [],
      "metadata": {
        "id": "5nwh5_I9ezKI"
      },
      "execution_count": null,
      "outputs": []
    },
    {
      "cell_type": "markdown",
      "source": [
        "After building the graph, our graph should interact with the LLM.\n",
        "\n",
        "Note: Anytime we create a Node, it need to take the State paremeter of State(class). This is because, based on the statemessage, the state management should keep changing."
      ],
      "metadata": {
        "id": "-a5qhjSifGcm"
      }
    },
    {
      "cell_type": "code",
      "source": [
        "def chatbot(state:State):\n",
        "  '''\n",
        "    return: After any response from the chatbot, we need to update the message variable.\n",
        "    llm invoke: Specifically invoke from the state message, which will hold the user query\n",
        "  '''\n",
        "\n",
        "  return {\"messages\" : llm.invoke(state['messages'])}"
      ],
      "metadata": {
        "id": "ZQFfT9NWfM5N"
      },
      "execution_count": 14,
      "outputs": []
    },
    {
      "cell_type": "markdown",
      "source": [
        "### Explanation\n",
        "\n",
        "Every time a user queries, messages will be appended to the messages variable in the class and,\n",
        "\n",
        "once messages get appended LLM will invoke that messages and,\n",
        "\n",
        "the llm response will again get appended back to the messages variable."
      ],
      "metadata": {
        "id": "Uatsu5XFgWgX"
      }
    },
    {
      "cell_type": "code",
      "source": [],
      "metadata": {
        "id": "sFwtewf8gEEI"
      },
      "execution_count": null,
      "outputs": []
    },
    {
      "cell_type": "markdown",
      "source": [
        "# Add Node: Add the chatbot into the graph with graphbuilder"
      ],
      "metadata": {
        "id": "8G_-BsoahA7w"
      }
    },
    {
      "cell_type": "code",
      "source": [
        "graph_builder.add_node(\"chatbot\", chatbot)"
      ],
      "metadata": {
        "id": "5knk3hMGg50M"
      },
      "execution_count": 15,
      "outputs": []
    },
    {
      "cell_type": "code",
      "source": [],
      "metadata": {
        "id": "KDnm66j_hKxt"
      },
      "execution_count": null,
      "outputs": []
    },
    {
      "cell_type": "markdown",
      "source": [
        "# Connect the chatbot Node to start and end node"
      ],
      "metadata": {
        "id": "BySmCHgHhRUs"
      }
    },
    {
      "cell_type": "code",
      "source": [
        "graph_builder.add_edge(START, \"chatbot\")\n",
        "graph_builder.add_edge(\"chatbot\", END)"
      ],
      "metadata": {
        "id": "pxnxR9-6hZUk"
      },
      "execution_count": 16,
      "outputs": []
    },
    {
      "cell_type": "code",
      "source": [],
      "metadata": {
        "id": "qc27GNVJhi3o"
      },
      "execution_count": null,
      "outputs": []
    },
    {
      "cell_type": "markdown",
      "source": [
        "# Compile Graph"
      ],
      "metadata": {
        "id": "VFu7Fq57hkXL"
      }
    },
    {
      "cell_type": "code",
      "source": [
        "graph = graph_builder.compile()"
      ],
      "metadata": {
        "id": "-_Gv6hgShzE5"
      },
      "execution_count": 17,
      "outputs": []
    },
    {
      "cell_type": "code",
      "source": [
        "from IPython.display import Image, display\n",
        "try:\n",
        "  display(Image(graph.get_graph().draw_mermaid_png()))\n",
        "except Exception:\n",
        "  pass"
      ],
      "metadata": {
        "colab": {
          "base_uri": "https://localhost:8080/",
          "height": 251
        },
        "id": "PqCOhlxQh3Z_",
        "outputId": "19d29da5-19f0-40b6-e80e-cdbe707dafa7"
      },
      "execution_count": 18,
      "outputs": [
        {
          "output_type": "display_data",
          "data": {
            "image/jpeg": "[encoded data removed]",
            "text/plain": [
              "<IPython.core.display.Image object>"
            ]
          },
          "metadata": {}
        }
      ]
    },
    {
      "cell_type": "code",
      "source": [],
      "metadata": {
        "id": "b_17x3cHiHzu"
      },
      "execution_count": null,
      "outputs": []
    },
    {
      "cell_type": "markdown",
      "source": [
        "# Run Graph"
      ],
      "metadata": {
        "id": "C5hFYivHiL47"
      }
    },
    {
      "cell_type": "code",
      "source": [
        "while True:\n",
        "  user_input = input(\"Ask: \")\n",
        "\n",
        "  if user_input == 'q':\n",
        "    print(\"Bye\")\n",
        "    break\n",
        "\n",
        "  for event in graph.stream({'messages' : ('user', user_input)}):\n",
        "    print(event)\n",
        "    print(\"*****\")\n",
        "    print(event.values())\n",
        "    print('******')\n",
        "\n",
        "    for value in event.values():\n",
        "      print(value)\n",
        "      print('*******')\n",
        "      print(value['messages'])\n",
        "      print('*******')\n",
        "      print('Assistant: ', value['messages'].content)"
      ],
      "metadata": {
        "colab": {
          "base_uri": "https://localhost:8080/"
        },
        "id": "7BWdDhpBiOSD",
        "outputId": "a76ce76e-2995-446a-eba9-84c1def8b0aa"
      },
      "execution_count": 19,
      "outputs": [
        {
          "output_type": "stream",
          "name": "stdout",
          "text": [
            "Ask: Hey there?\n",
            "{'chatbot': {'messages': AIMessage(content=\"Hey there! 👋 It's great to hear from you. What can I do for you today? 😊\", additional_kwargs={}, response_metadata={'token_usage': {'completion_tokens': 23, 'prompt_tokens': 12, 'total_tokens': 35, 'completion_time': 0.026930396, 'prompt_time': 0.007311939, 'queue_time': 0.007793632, 'total_time': 0.034242335}, 'model_name': 'gemma-7b-it', 'system_fingerprint': 'fp_7d8efeb0b1', 'finish_reason': 'stop', 'logprobs': None}, id='run-7db5e1db-6c73-4745-a21c-a11215b6de11-0', usage_metadata={'input_tokens': 12, 'output_tokens': 23, 'total_tokens': 35})}}\n",
            "*****\n",
            "dict_values([{'messages': AIMessage(content=\"Hey there! 👋 It's great to hear from you. What can I do for you today? 😊\", additional_kwargs={}, response_metadata={'token_usage': {'completion_tokens': 23, 'prompt_tokens': 12, 'total_tokens': 35, 'completion_time': 0.026930396, 'prompt_time': 0.007311939, 'queue_time': 0.007793632, 'total_time': 0.034242335}, 'model_name': 'gemma-7b-it', 'system_fingerprint': 'fp_7d8efeb0b1', 'finish_reason': 'stop', 'logprobs': None}, id='run-7db5e1db-6c73-4745-a21c-a11215b6de11-0', usage_metadata={'input_tokens': 12, 'output_tokens': 23, 'total_tokens': 35})}])\n",
            "******\n",
            "{'messages': AIMessage(content=\"Hey there! 👋 It's great to hear from you. What can I do for you today? 😊\", additional_kwargs={}, response_metadata={'token_usage': {'completion_tokens': 23, 'prompt_tokens': 12, 'total_tokens': 35, 'completion_time': 0.026930396, 'prompt_time': 0.007311939, 'queue_time': 0.007793632, 'total_time': 0.034242335}, 'model_name': 'gemma-7b-it', 'system_fingerprint': 'fp_7d8efeb0b1', 'finish_reason': 'stop', 'logprobs': None}, id='run-7db5e1db-6c73-4745-a21c-a11215b6de11-0', usage_metadata={'input_tokens': 12, 'output_tokens': 23, 'total_tokens': 35})}\n",
            "*******\n",
            "content=\"Hey there! 👋 It's great to hear from you. What can I do for you today? 😊\" additional_kwargs={} response_metadata={'token_usage': {'completion_tokens': 23, 'prompt_tokens': 12, 'total_tokens': 35, 'completion_time': 0.026930396, 'prompt_time': 0.007311939, 'queue_time': 0.007793632, 'total_time': 0.034242335}, 'model_name': 'gemma-7b-it', 'system_fingerprint': 'fp_7d8efeb0b1', 'finish_reason': 'stop', 'logprobs': None} id='run-7db5e1db-6c73-4745-a21c-a11215b6de11-0' usage_metadata={'input_tokens': 12, 'output_tokens': 23, 'total_tokens': 35}\n",
            "*******\n",
            "Assistant:  Hey there! 👋 It's great to hear from you. What can I do for you today? 😊\n",
            "Ask: Why is the sky blue?\n",
            "{'chatbot': {'messages': AIMessage(content='**The sky is blue due to a phenomenon called Rayleigh scattering.**\\n\\n* Sunlight is composed of all the colors of the rainbow, each with a specific wavelength.\\n* When sunlight interacts with molecules in the atmosphere, such as nitrogen and oxygen, the molecules scatter the light.\\n* Different wavelengths of light are scattered differently.\\n\\n**How Rayleigh scattering works:**\\n\\n- Shorter wavelengths of light (like blue light) scatter more efficiently than longer wavelengths.\\n- When sunlight interacts with air molecules, the electrons in the molecules are vibrated by the incoming light.\\n- The electrons emit light in all directions, but the shorter wavelength light is scattered more efficiently in the forward direction.\\n\\n**Why the sky is primarily blue:**\\n\\n- Blue light is scattered more efficiently than other colors in the spectrum.\\n- As a result, more blue light reaches our eyes from the sky than any other color.\\n- This is why the sky appears blue during the day.\\n\\n**Other factors affecting the color of the sky:**\\n\\n- **Time of day:** The sun emits more short-wavelength light in the morning and evening, resulting in a slightly different shade of blue.\\n- **Altitude:** The higher you are, the less atmosphere there is to scatter the light, resulting in a clearer and bluer sky.\\n- **Cloud cover:** Clouds can block the sunlight and scatter less light, resulting in a less blue sky.\\n- **Pollution:** Air pollution can scatter all wavelengths of light equally, resulting in a less vibrant blue sky.', additional_kwargs={}, response_metadata={'token_usage': {'completion_tokens': 310, 'prompt_tokens': 15, 'total_tokens': 325, 'completion_time': 0.353638357, 'prompt_time': 0.017587224, 'queue_time': 0.905007649, 'total_time': 0.371225581}, 'model_name': 'gemma-7b-it', 'system_fingerprint': 'fp_7d8efeb0b1', 'finish_reason': 'stop', 'logprobs': None}, id='run-8f64c99e-3143-459a-a3c8-13dfd20a2d55-0', usage_metadata={'input_tokens': 15, 'output_tokens': 310, 'total_tokens': 325})}}\n",
            "*****\n",
            "dict_values([{'messages': AIMessage(content='**The sky is blue due to a phenomenon called Rayleigh scattering.**\\n\\n* Sunlight is composed of all the colors of the rainbow, each with a specific wavelength.\\n* When sunlight interacts with molecules in the atmosphere, such as nitrogen and oxygen, the molecules scatter the light.\\n* Different wavelengths of light are scattered differently.\\n\\n**How Rayleigh scattering works:**\\n\\n- Shorter wavelengths of light (like blue light) scatter more efficiently than longer wavelengths.\\n- When sunlight interacts with air molecules, the electrons in the molecules are vibrated by the incoming light.\\n- The electrons emit light in all directions, but the shorter wavelength light is scattered more efficiently in the forward direction.\\n\\n**Why the sky is primarily blue:**\\n\\n- Blue light is scattered more efficiently than other colors in the spectrum.\\n- As a result, more blue light reaches our eyes from the sky than any other color.\\n- This is why the sky appears blue during the day.\\n\\n**Other factors affecting the color of the sky:**\\n\\n- **Time of day:** The sun emits more short-wavelength light in the morning and evening, resulting in a slightly different shade of blue.\\n- **Altitude:** The higher you are, the less atmosphere there is to scatter the light, resulting in a clearer and bluer sky.\\n- **Cloud cover:** Clouds can block the sunlight and scatter less light, resulting in a less blue sky.\\n- **Pollution:** Air pollution can scatter all wavelengths of light equally, resulting in a less vibrant blue sky.', additional_kwargs={}, response_metadata={'token_usage': {'completion_tokens': 310, 'prompt_tokens': 15, 'total_tokens': 325, 'completion_time': 0.353638357, 'prompt_time': 0.017587224, 'queue_time': 0.905007649, 'total_time': 0.371225581}, 'model_name': 'gemma-7b-it', 'system_fingerprint': 'fp_7d8efeb0b1', 'finish_reason': 'stop', 'logprobs': None}, id='run-8f64c99e-3143-459a-a3c8-13dfd20a2d55-0', usage_metadata={'input_tokens': 15, 'output_tokens': 310, 'total_tokens': 325})}])\n",
            "******\n",
            "{'messages': AIMessage(content='**The sky is blue due to a phenomenon called Rayleigh scattering.**\\n\\n* Sunlight is composed of all the colors of the rainbow, each with a specific wavelength.\\n* When sunlight interacts with molecules in the atmosphere, such as nitrogen and oxygen, the molecules scatter the light.\\n* Different wavelengths of light are scattered differently.\\n\\n**How Rayleigh scattering works:**\\n\\n- Shorter wavelengths of light (like blue light) scatter more efficiently than longer wavelengths.\\n- When sunlight interacts with air molecules, the electrons in the molecules are vibrated by the incoming light.\\n- The electrons emit light in all directions, but the shorter wavelength light is scattered more efficiently in the forward direction.\\n\\n**Why the sky is primarily blue:**\\n\\n- Blue light is scattered more efficiently than other colors in the spectrum.\\n- As a result, more blue light reaches our eyes from the sky than any other color.\\n- This is why the sky appears blue during the day.\\n\\n**Other factors affecting the color of the sky:**\\n\\n- **Time of day:** The sun emits more short-wavelength light in the morning and evening, resulting in a slightly different shade of blue.\\n- **Altitude:** The higher you are, the less atmosphere there is to scatter the light, resulting in a clearer and bluer sky.\\n- **Cloud cover:** Clouds can block the sunlight and scatter less light, resulting in a less blue sky.\\n- **Pollution:** Air pollution can scatter all wavelengths of light equally, resulting in a less vibrant blue sky.', additional_kwargs={}, response_metadata={'token_usage': {'completion_tokens': 310, 'prompt_tokens': 15, 'total_tokens': 325, 'completion_time': 0.353638357, 'prompt_time': 0.017587224, 'queue_time': 0.905007649, 'total_time': 0.371225581}, 'model_name': 'gemma-7b-it', 'system_fingerprint': 'fp_7d8efeb0b1', 'finish_reason': 'stop', 'logprobs': None}, id='run-8f64c99e-3143-459a-a3c8-13dfd20a2d55-0', usage_metadata={'input_tokens': 15, 'output_tokens': 310, 'total_tokens': 325})}\n",
            "*******\n",
            "content='**The sky is blue due to a phenomenon called Rayleigh scattering.**\\n\\n* Sunlight is composed of all the colors of the rainbow, each with a specific wavelength.\\n* When sunlight interacts with molecules in the atmosphere, such as nitrogen and oxygen, the molecules scatter the light.\\n* Different wavelengths of light are scattered differently.\\n\\n**How Rayleigh scattering works:**\\n\\n- Shorter wavelengths of light (like blue light) scatter more efficiently than longer wavelengths.\\n- When sunlight interacts with air molecules, the electrons in the molecules are vibrated by the incoming light.\\n- The electrons emit light in all directions, but the shorter wavelength light is scattered more efficiently in the forward direction.\\n\\n**Why the sky is primarily blue:**\\n\\n- Blue light is scattered more efficiently than other colors in the spectrum.\\n- As a result, more blue light reaches our eyes from the sky than any other color.\\n- This is why the sky appears blue during the day.\\n\\n**Other factors affecting the color of the sky:**\\n\\n- **Time of day:** The sun emits more short-wavelength light in the morning and evening, resulting in a slightly different shade of blue.\\n- **Altitude:** The higher you are, the less atmosphere there is to scatter the light, resulting in a clearer and bluer sky.\\n- **Cloud cover:** Clouds can block the sunlight and scatter less light, resulting in a less blue sky.\\n- **Pollution:** Air pollution can scatter all wavelengths of light equally, resulting in a less vibrant blue sky.' additional_kwargs={} response_metadata={'token_usage': {'completion_tokens': 310, 'prompt_tokens': 15, 'total_tokens': 325, 'completion_time': 0.353638357, 'prompt_time': 0.017587224, 'queue_time': 0.905007649, 'total_time': 0.371225581}, 'model_name': 'gemma-7b-it', 'system_fingerprint': 'fp_7d8efeb0b1', 'finish_reason': 'stop', 'logprobs': None} id='run-8f64c99e-3143-459a-a3c8-13dfd20a2d55-0' usage_metadata={'input_tokens': 15, 'output_tokens': 310, 'total_tokens': 325}\n",
            "*******\n",
            "Assistant:  **The sky is blue due to a phenomenon called Rayleigh scattering.**\n",
            "\n",
            "* Sunlight is composed of all the colors of the rainbow, each with a specific wavelength.\n",
            "* When sunlight interacts with molecules in the atmosphere, such as nitrogen and oxygen, the molecules scatter the light.\n",
            "* Different wavelengths of light are scattered differently.\n",
            "\n",
            "**How Rayleigh scattering works:**\n",
            "\n",
            "- Shorter wavelengths of light (like blue light) scatter more efficiently than longer wavelengths.\n",
            "- When sunlight interacts with air molecules, the electrons in the molecules are vibrated by the incoming light.\n",
            "- The electrons emit light in all directions, but the shorter wavelength light is scattered more efficiently in the forward direction.\n",
            "\n",
            "**Why the sky is primarily blue:**\n",
            "\n",
            "- Blue light is scattered more efficiently than other colors in the spectrum.\n",
            "- As a result, more blue light reaches our eyes from the sky than any other color.\n",
            "- This is why the sky appears blue during the day.\n",
            "\n",
            "**Other factors affecting the color of the sky:**\n",
            "\n",
            "- **Time of day:** The sun emits more short-wavelength light in the morning and evening, resulting in a slightly different shade of blue.\n",
            "- **Altitude:** The higher you are, the less atmosphere there is to scatter the light, resulting in a clearer and bluer sky.\n",
            "- **Cloud cover:** Clouds can block the sunlight and scatter less light, resulting in a less blue sky.\n",
            "- **Pollution:** Air pollution can scatter all wavelengths of light equally, resulting in a less vibrant blue sky.\n",
            "Ask: q\n",
            "Bye\n"
          ]
        }
      ]
    },
    {
      "cell_type": "code",
      "source": [],
      "metadata": {
        "id": "Rtzh31RMjM1t"
      },
      "execution_count": null,
      "outputs": []
    }
  ]
}